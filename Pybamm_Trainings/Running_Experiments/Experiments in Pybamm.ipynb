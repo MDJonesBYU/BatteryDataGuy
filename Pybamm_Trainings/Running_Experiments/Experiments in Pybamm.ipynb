{
 "cells": [
  {
   "cell_type": "markdown",
   "id": "325ffdd4",
   "metadata": {},
   "source": [
    "<div style=\"text-align: left; font-size: 4em; font-weight: bold;\">\n",
    "    <br>Running Experiments in\n",
    "</div>\n",
    "\n",
    "<br>"
   ]
  },
  {
   "cell_type": "markdown",
   "id": "5e18762b-fe35-456d-a7ef-6d42a2bbe584",
   "metadata": {},
   "source": [
    "<img src=\"pybamm.png\" width=\"300\" height=\"200\">"
   ]
  },
  {
   "cell_type": "markdown",
   "id": "4f780534",
   "metadata": {},
   "source": [
    "## Background: \n",
    "\n",
    "In this video, we're going reivew how you can run experiments in Pybamm. If you're not familiar with running simulations in pybamm, check out the earlier lecture, *A basic intro to Pybamm* & return here when you're ready.  \n",
    "\n",
    "----\n",
    "### What is an Experiment?\n",
    "Pybamm's experiment class is a useful mechanism for preparing battery model simulations under specific operating conditions.[1] Users can prepare an experiment in pybamm by passing human-readable instructions as a list of string entries to the Pybamm.Experiment() class.[2] For example, if I wanted to setup an experiment to run a 1C discharge until my battery's voltage reaches 2.8V, I could do that as shown below:  \n",
    "```python\n",
    "experiment = pybamm.Experiment([\n",
    "    (\"Discharge at 1C until 2.8V\",\n",
    "    \"Rest for 10 minutes\")\n",
    "    ])\n",
    "```\n",
    "But you're not limited to just C-rate and time-based specifications, we can also pass instructions to run the model under load until a specific voltage condition achieved. If we wanted, we can even include a constant-voltage hold condition where we taper the current to maintain the battery voltage at some maximum or minimum operating condition. This fairly common when topping off a battery to it's full state of charge condition. [3]\n",
    "\n",
    "Also, we can change the instructions from a C-rate basis to a specific current, and we're not limited to monotonic scenarios such as strict discharge or strict charge. Let's go through our first execution of a pybamm experiment with an example simulating these conditions.   \n",
    "\n",
    "---"
   ]
  },
  {
   "cell_type": "markdown",
   "id": "e14b4ac0-d88b-4dd3-ba74-d357de066616",
   "metadata": {},
   "source": [
    "### Example Experiments:\n",
    "#### Example 1: Simple Monotonic Experiment\n",
    "First let's load our virtual environment and required packages"
   ]
  },
  {
   "cell_type": "code",
   "execution_count": 1,
   "id": "3b42e103-4f52-4ae8-90ce-6a567e418406",
   "metadata": {},
   "outputs": [],
   "source": [
    "#Activate Virtual environment to load specific package versions\n",
    "!conda activate py3122\n",
    "\n",
    "# Import our standard packages\n",
    "import matplotlib.pyplot as plt\n",
    "import numpy as np\n",
    "import pybamm\n"
   ]
  },
  {
   "cell_type": "markdown",
   "id": "4afedc99-f10f-4aa9-901b-7b0e82ad6cea",
   "metadata": {},
   "source": [
    "Next we'll load out model, specify our battery, and setup our simulation with its experiment conditions"
   ]
  },
  {
   "cell_type": "code",
   "execution_count": null,
   "id": "7417e03f-2f1d-461b-aedb-2d5369ea1c6d",
   "metadata": {},
   "outputs": [],
   "source": []
  },
  {
   "cell_type": "markdown",
   "id": "cd5f6cc7-f4f5-40ae-9c21-b55842b2b0db",
   "metadata": {},
   "source": [
    "#### Example 2: Experiment with charge/discharge and current tapering"
   ]
  },
  {
   "cell_type": "code",
   "execution_count": 2,
   "id": "67321aa5",
   "metadata": {},
   "outputs": [
    {
     "data": {
      "text/plain": [
       "<pybamm.solvers.solution.Solution at 0x20b68c2e8d0>"
      ]
     },
     "execution_count": 2,
     "metadata": {},
     "output_type": "execute_result"
    }
   ],
   "source": [
    "# Load our model type\n",
    "model = pybamm.lithium_ion.SPMe()\n",
    "\n",
    "# Next wel'll declare our chemistry set\n",
    "chemistry = pybamm.parameter_sets.Chen2020\n",
    "parameter_values = pybamm.ParameterValues(values=chemistry)\n",
    "\n",
    "# Then we'll declare our experiment\n",
    "experiment = pybamm.Experiment([\n",
    "    (f\"Discharge at 0.3C until 3.7V\",\n",
    "     f\"Charge at 0.3C until 4.2V\",\n",
    "     f\"Hold at 4.2V until 50 mA\",\n",
    "     f\"Rest for 5 minutes\",\n",
    "     f\"Discharge at 1C until 3.5V\",\n",
    "     f\"Hold at 3.5V until C/10\"\n",
    "    )\n",
    "])\n",
    "\n",
    "# And setup our simulation\n",
    "sim = pybamm.Simulation(model, experiment=experiment, parameter_values=parameter_values)\n",
    "\n",
    "# Finally we'll execute our experiment\n",
    "sim.solve()\n",
    "\n",
    "# You can use the code below to plot our results, but we'll hold off for now \n",
    "#sim.plot()"
   ]
  },
  {
   "cell_type": "markdown",
   "id": "7e576c43",
   "metadata": {},
   "source": [
    "Before we plot, let's review what we just did. In the code above, we prepared an experiment for by passing a list of string tuples that read like a simple instruction guide. The pybamm developers created the experiment class in such a way that it's similar to reading a standard procedure document if you were executing a physical test in a lab environment. This helps us ensure that the test conditions we specify in our model reflect our intended test procedure(s). Now, let's go ahead and look at the plot. "
   ]
  },
  {
   "cell_type": "code",
   "execution_count": 3,
   "id": "3d228925",
   "metadata": {},
   "outputs": [
    {
     "data": {
      "application/vnd.jupyter.widget-view+json": {
       "model_id": "84bd4f7e983b4e17ad47200a5186874f",
       "version_major": 2,
       "version_minor": 0
      },
      "text/plain": [
       "interactive(children=(FloatSlider(value=0.0, description='t', max=5.080642891017491, step=0.05080642891017491)…"
      ]
     },
     "metadata": {},
     "output_type": "display_data"
    }
   ],
   "source": [
    "result = sim.plot()"
   ]
  },
  {
   "cell_type": "markdown",
   "id": "0731a8f6",
   "metadata": {},
   "source": [
    "So, in our experiment plot, we see how the current changes according to our specified C-rate conditions. In the voltage vs. time plot we observe the constant voltage hold at 4.2V, where the current tapers until our threshold requirement has been achieved. Now, keep in mind that we've demonstrating the example with an SPMe model, so if you are running the same experiment in more detail (like with a DFN model), it's going to be more time-intensive due to differences in the model complexity.  \n",
    "\n",
    "We saw above that you can simulate charge and discharge protocols, but how can we manage a test that has many repeated tests with a litany of steps to go through? We'll go through that in our next example"
   ]
  },
  {
   "cell_type": "markdown",
   "id": "13ccd283-d615-42ba-8d25-cd94588b5de2",
   "metadata": {},
   "source": [
    "#### Example 3: Running an experiment with many repeated step conditions\n",
    "To explore how we can setup long, repetitious experiments in pybamm, we'll base our example on the test that Cho, Lee, and Kim used to get data to fit their equivalent circuit model. [4] First they charged and discharged the cell between 4.2 and 2.5V at a 0.5 C-rate with some level of a current taper, and allowing the battery to rest for ~1 hour between conditions. Next they charged the cell to 95% SOC with a 0.5 C-rate. Then, a pulse profile was applied at every 5% SOC increment. Since the pulse duration and rest times aren't directly specified, we'll make the following asusmptions for each 5% increment: \n",
    "* Discharge pulse for 18s [5]\n",
    "* rest for 1 minute\n",
    "* charge pulse for 18s\n",
    "* rest for 1 minute\n",
    "* discharge to the next SOC condition (For Ex. start at 95%, discharge to 90% SOC)\n",
    "* rest for ~1hr\n",
    "* repeat discharge protocol until (and including) 5% SOC "
   ]
  },
  {
   "cell_type": "code",
   "execution_count": 4,
   "id": "412667de-9e16-42e8-a309-2c6cffd480bf",
   "metadata": {},
   "outputs": [
    {
     "data": {
      "text/plain": [
       "[4.123554674348624,\n",
       " 4.096660985037031,\n",
       " 4.080913321628858,\n",
       " 4.042078696473576,\n",
       " 3.9943026592782265,\n",
       " 3.947904020549835,\n",
       " 3.8895831164296535,\n",
       " 3.840574377437165,\n",
       " 3.7983447673027584,\n",
       " 3.750870467195166,\n",
       " 3.7053943205890896,\n",
       " 3.6670033852799646,\n",
       " 3.62904403656957,\n",
       " 3.5814414860478996,\n",
       " 3.5285580880548344,\n",
       " 3.4851827513338427,\n",
       " 3.4338873128626384,\n",
       " 3.295898845512274,\n",
       " 3.109434999152347]"
      ]
     },
     "execution_count": 4,
     "metadata": {},
     "output_type": "execute_result"
    }
   ],
   "source": [
    "# Unfortunately, the current version of pybamm (24.1) does not allow for SOC based steps aside from the experiment termination condition. \n",
    "# So, we could either setup this in pybamm by breaking up the experiment into 19 experiments with different termination SOCs or one long experiment\n",
    "# where we relate the SOC condition to the OCV of the cell at the SOC condition.  \n",
    "\n",
    "# We're going to demonstrate first how to do it in a single experiment with voltage declared. If I knew the cell's OCV at each 5% SOC I could directly \n",
    "# Specify that, but let's assume we don't have that at the moment. We can simulate a rest condition and specify the starting SOC to get the \n",
    "# corresponding OCV, and append that to a list of OCV values corresponding to our SOC values. \n",
    "\n",
    "ocv_experiment = pybamm.Experiment([\n",
    "     f\"Rest for 5 minutes\",\n",
    "     f\"Discharge at 2C until 2.5V\"])\n",
    "\n",
    "# Initialize an empty list to store the results\n",
    "sim = pybamm.Simulation(model, experiment=ocv_experiment, parameter_values=parameter_values, )\n",
    "\n",
    "ocv_vals = []\n",
    "soc_vals = [0.95, 0.9, 0.85, 0.8, 0.75, 0.7, 0.65, 0.6, 0.55, 0.5, 0.45, 0.4, 0.35, 0.3, 0.25, 0.2, 0.15, 0.1, 0.05]\n",
    "\n",
    "# Loop through our SOC conditions to get our OCV\n",
    "for val in soc_vals: \n",
    "    sim.solve(initial_soc=val)\n",
    "    ocv = list(sim.solution['Voltage [V]'].entries)[0]\n",
    "    ocv_vals.append(ocv)\n",
    "\n",
    "# Check our OCV Values\n",
    "ocv_vals"
   ]
  },
  {
   "cell_type": "code",
   "execution_count": 5,
   "id": "e979dc8d-7f26-4727-b4cc-37773dc963f1",
   "metadata": {},
   "outputs": [
    {
     "data": {
      "text/plain": [
       "[('Discharge at 0.5C until 4.10V',\n",
       "  'Rest for 60 minutes',\n",
       "  'Discharge at 0.5C for 18 s',\n",
       "  'Rest for 1 minutes',\n",
       "  'Charge at 0.5C for 18 s',\n",
       "  'Rest for 1 minutes'),\n",
       " ('Discharge at 0.5C until 4.08V',\n",
       "  'Rest for 60 minutes',\n",
       "  'Discharge at 0.5C for 18 s',\n",
       "  'Rest for 1 minutes',\n",
       "  'Charge at 0.5C for 18 s',\n",
       "  'Rest for 1 minutes'),\n",
       " ('Discharge at 0.5C until 4.04V',\n",
       "  'Rest for 60 minutes',\n",
       "  'Discharge at 0.5C for 18 s',\n",
       "  'Rest for 1 minutes',\n",
       "  'Charge at 0.5C for 18 s',\n",
       "  'Rest for 1 minutes'),\n",
       " ('Discharge at 0.5C until 3.99V',\n",
       "  'Rest for 60 minutes',\n",
       "  'Discharge at 0.5C for 18 s',\n",
       "  'Rest for 1 minutes',\n",
       "  'Charge at 0.5C for 18 s',\n",
       "  'Rest for 1 minutes'),\n",
       " ('Discharge at 0.5C until 3.95V',\n",
       "  'Rest for 60 minutes',\n",
       "  'Discharge at 0.5C for 18 s',\n",
       "  'Rest for 1 minutes',\n",
       "  'Charge at 0.5C for 18 s',\n",
       "  'Rest for 1 minutes'),\n",
       " ('Discharge at 0.5C until 3.89V',\n",
       "  'Rest for 60 minutes',\n",
       "  'Discharge at 0.5C for 18 s',\n",
       "  'Rest for 1 minutes',\n",
       "  'Charge at 0.5C for 18 s',\n",
       "  'Rest for 1 minutes'),\n",
       " ('Discharge at 0.5C until 3.84V',\n",
       "  'Rest for 60 minutes',\n",
       "  'Discharge at 0.5C for 18 s',\n",
       "  'Rest for 1 minutes',\n",
       "  'Charge at 0.5C for 18 s',\n",
       "  'Rest for 1 minutes'),\n",
       " ('Discharge at 0.5C until 3.80V',\n",
       "  'Rest for 60 minutes',\n",
       "  'Discharge at 0.5C for 18 s',\n",
       "  'Rest for 1 minutes',\n",
       "  'Charge at 0.5C for 18 s',\n",
       "  'Rest for 1 minutes'),\n",
       " ('Discharge at 0.5C until 3.75V',\n",
       "  'Rest for 60 minutes',\n",
       "  'Discharge at 0.5C for 18 s',\n",
       "  'Rest for 1 minutes',\n",
       "  'Charge at 0.5C for 18 s',\n",
       "  'Rest for 1 minutes'),\n",
       " ('Discharge at 0.5C until 3.71V',\n",
       "  'Rest for 60 minutes',\n",
       "  'Discharge at 0.5C for 18 s',\n",
       "  'Rest for 1 minutes',\n",
       "  'Charge at 0.5C for 18 s',\n",
       "  'Rest for 1 minutes'),\n",
       " ('Discharge at 0.5C until 3.67V',\n",
       "  'Rest for 60 minutes',\n",
       "  'Discharge at 0.5C for 18 s',\n",
       "  'Rest for 1 minutes',\n",
       "  'Charge at 0.5C for 18 s',\n",
       "  'Rest for 1 minutes'),\n",
       " ('Discharge at 0.5C until 3.63V',\n",
       "  'Rest for 60 minutes',\n",
       "  'Discharge at 0.5C for 18 s',\n",
       "  'Rest for 1 minutes',\n",
       "  'Charge at 0.5C for 18 s',\n",
       "  'Rest for 1 minutes'),\n",
       " ('Discharge at 0.5C until 3.58V',\n",
       "  'Rest for 60 minutes',\n",
       "  'Discharge at 0.5C for 18 s',\n",
       "  'Rest for 1 minutes',\n",
       "  'Charge at 0.5C for 18 s',\n",
       "  'Rest for 1 minutes'),\n",
       " ('Discharge at 0.5C until 3.53V',\n",
       "  'Rest for 60 minutes',\n",
       "  'Discharge at 0.5C for 18 s',\n",
       "  'Rest for 1 minutes',\n",
       "  'Charge at 0.5C for 18 s',\n",
       "  'Rest for 1 minutes'),\n",
       " ('Discharge at 0.5C until 3.49V',\n",
       "  'Rest for 60 minutes',\n",
       "  'Discharge at 0.5C for 18 s',\n",
       "  'Rest for 1 minutes',\n",
       "  'Charge at 0.5C for 18 s',\n",
       "  'Rest for 1 minutes'),\n",
       " ('Discharge at 0.5C until 3.43V',\n",
       "  'Rest for 60 minutes',\n",
       "  'Discharge at 0.5C for 18 s',\n",
       "  'Rest for 1 minutes',\n",
       "  'Charge at 0.5C for 18 s',\n",
       "  'Rest for 1 minutes'),\n",
       " ('Discharge at 0.5C until 3.30V',\n",
       "  'Rest for 60 minutes',\n",
       "  'Discharge at 0.5C for 18 s',\n",
       "  'Rest for 1 minutes',\n",
       "  'Charge at 0.5C for 18 s',\n",
       "  'Rest for 1 minutes'),\n",
       " ('Discharge at 0.5C until 3.11V',\n",
       "  'Rest for 60 minutes',\n",
       "  'Discharge at 0.5C for 18 s',\n",
       "  'Rest for 1 minutes',\n",
       "  'Charge at 0.5C for 18 s',\n",
       "  'Rest for 1 minutes')]"
      ]
     },
     "execution_count": 5,
     "metadata": {},
     "output_type": "execute_result"
    }
   ],
   "source": [
    "# Now before we feed in all the experiment, let's first setup our duplicated step. We know each pulse after the first one at 95% SOC that we'll \n",
    "# discharge 5%, rest for an hour, then pulse, and move to the next condition. We'll use list comprehension to iterate through our ocv_list and \n",
    "# set this up\n",
    "\n",
    "instructions = [(f\"Discharge at 0.5C until {val:.2f}V\", \n",
    "f\"Rest for 60 minutes\",\n",
    "f\"Discharge at 0.5C for 18 s\",\n",
    "f\"Rest for 1 minutes\",\n",
    "f\"Charge at 0.5C for 18 s\",\n",
    "f\"Rest for 1 minutes\",) for val in ocv_vals[1:]]\n",
    "\n",
    "instructions"
   ]
  },
  {
   "cell_type": "code",
   "execution_count": 6,
   "id": "8d780833-992e-4f6d-8dc6-9d776fe43f2d",
   "metadata": {},
   "outputs": [
    {
     "data": {
      "text/plain": [
       "[('Charge at 0.5C until 4.2V',\n",
       "  'Hold at 4.2V until 10mA',\n",
       "  'Rest for 60 minutes',\n",
       "  'Discharge at 0.5C until 2.5V',\n",
       "  'Rest for 60 minutes',\n",
       "  'Charge at 0.5C until 4.12V',\n",
       "  'Rest for 60 minutes',\n",
       "  'Discharge at 0.5C for 18 s',\n",
       "  'Rest for 1 minutes',\n",
       "  'Charge at 0.5C for 18 s',\n",
       "  'Rest for 1 minutes'),\n",
       " ('Discharge at 0.5C until 4.10V',\n",
       "  'Rest for 60 minutes',\n",
       "  'Discharge at 0.5C for 18 s',\n",
       "  'Rest for 1 minutes',\n",
       "  'Charge at 0.5C for 18 s',\n",
       "  'Rest for 1 minutes'),\n",
       " ('Discharge at 0.5C until 4.08V',\n",
       "  'Rest for 60 minutes',\n",
       "  'Discharge at 0.5C for 18 s',\n",
       "  'Rest for 1 minutes',\n",
       "  'Charge at 0.5C for 18 s',\n",
       "  'Rest for 1 minutes'),\n",
       " ('Discharge at 0.5C until 4.04V',\n",
       "  'Rest for 60 minutes',\n",
       "  'Discharge at 0.5C for 18 s',\n",
       "  'Rest for 1 minutes',\n",
       "  'Charge at 0.5C for 18 s',\n",
       "  'Rest for 1 minutes'),\n",
       " ('Discharge at 0.5C until 3.99V',\n",
       "  'Rest for 60 minutes',\n",
       "  'Discharge at 0.5C for 18 s',\n",
       "  'Rest for 1 minutes',\n",
       "  'Charge at 0.5C for 18 s',\n",
       "  'Rest for 1 minutes'),\n",
       " ('Discharge at 0.5C until 3.95V',\n",
       "  'Rest for 60 minutes',\n",
       "  'Discharge at 0.5C for 18 s',\n",
       "  'Rest for 1 minutes',\n",
       "  'Charge at 0.5C for 18 s',\n",
       "  'Rest for 1 minutes'),\n",
       " ('Discharge at 0.5C until 3.89V',\n",
       "  'Rest for 60 minutes',\n",
       "  'Discharge at 0.5C for 18 s',\n",
       "  'Rest for 1 minutes',\n",
       "  'Charge at 0.5C for 18 s',\n",
       "  'Rest for 1 minutes'),\n",
       " ('Discharge at 0.5C until 3.84V',\n",
       "  'Rest for 60 minutes',\n",
       "  'Discharge at 0.5C for 18 s',\n",
       "  'Rest for 1 minutes',\n",
       "  'Charge at 0.5C for 18 s',\n",
       "  'Rest for 1 minutes'),\n",
       " ('Discharge at 0.5C until 3.80V',\n",
       "  'Rest for 60 minutes',\n",
       "  'Discharge at 0.5C for 18 s',\n",
       "  'Rest for 1 minutes',\n",
       "  'Charge at 0.5C for 18 s',\n",
       "  'Rest for 1 minutes'),\n",
       " ('Discharge at 0.5C until 3.75V',\n",
       "  'Rest for 60 minutes',\n",
       "  'Discharge at 0.5C for 18 s',\n",
       "  'Rest for 1 minutes',\n",
       "  'Charge at 0.5C for 18 s',\n",
       "  'Rest for 1 minutes'),\n",
       " ('Discharge at 0.5C until 3.71V',\n",
       "  'Rest for 60 minutes',\n",
       "  'Discharge at 0.5C for 18 s',\n",
       "  'Rest for 1 minutes',\n",
       "  'Charge at 0.5C for 18 s',\n",
       "  'Rest for 1 minutes'),\n",
       " ('Discharge at 0.5C until 3.67V',\n",
       "  'Rest for 60 minutes',\n",
       "  'Discharge at 0.5C for 18 s',\n",
       "  'Rest for 1 minutes',\n",
       "  'Charge at 0.5C for 18 s',\n",
       "  'Rest for 1 minutes'),\n",
       " ('Discharge at 0.5C until 3.63V',\n",
       "  'Rest for 60 minutes',\n",
       "  'Discharge at 0.5C for 18 s',\n",
       "  'Rest for 1 minutes',\n",
       "  'Charge at 0.5C for 18 s',\n",
       "  'Rest for 1 minutes'),\n",
       " ('Discharge at 0.5C until 3.58V',\n",
       "  'Rest for 60 minutes',\n",
       "  'Discharge at 0.5C for 18 s',\n",
       "  'Rest for 1 minutes',\n",
       "  'Charge at 0.5C for 18 s',\n",
       "  'Rest for 1 minutes'),\n",
       " ('Discharge at 0.5C until 3.53V',\n",
       "  'Rest for 60 minutes',\n",
       "  'Discharge at 0.5C for 18 s',\n",
       "  'Rest for 1 minutes',\n",
       "  'Charge at 0.5C for 18 s',\n",
       "  'Rest for 1 minutes'),\n",
       " ('Discharge at 0.5C until 3.49V',\n",
       "  'Rest for 60 minutes',\n",
       "  'Discharge at 0.5C for 18 s',\n",
       "  'Rest for 1 minutes',\n",
       "  'Charge at 0.5C for 18 s',\n",
       "  'Rest for 1 minutes'),\n",
       " ('Discharge at 0.5C until 3.43V',\n",
       "  'Rest for 60 minutes',\n",
       "  'Discharge at 0.5C for 18 s',\n",
       "  'Rest for 1 minutes',\n",
       "  'Charge at 0.5C for 18 s',\n",
       "  'Rest for 1 minutes'),\n",
       " ('Discharge at 0.5C until 3.30V',\n",
       "  'Rest for 60 minutes',\n",
       "  'Discharge at 0.5C for 18 s',\n",
       "  'Rest for 1 minutes',\n",
       "  'Charge at 0.5C for 18 s',\n",
       "  'Rest for 1 minutes'),\n",
       " ('Discharge at 0.5C until 3.11V',\n",
       "  'Rest for 60 minutes',\n",
       "  'Discharge at 0.5C for 18 s',\n",
       "  'Rest for 1 minutes',\n",
       "  'Charge at 0.5C for 18 s',\n",
       "  'Rest for 1 minutes')]"
      ]
     },
     "execution_count": 6,
     "metadata": {},
     "output_type": "execute_result"
    }
   ],
   "source": [
    "# Now we just need to add this to our initial instructions and then we can execute. \n",
    "beginning_of_experiment =     (\n",
    "     f\"Charge at 0.5C until 4.2V\",\n",
    "     f\"Hold at 4.2V until 10mA\", \n",
    "     f\"Rest for 60 minutes\",\n",
    "     f\"Discharge at 0.5C until 2.5V\",\n",
    "     f\"Rest for 60 minutes\",\n",
    "     f\"Charge at 0.5C until {ocv_vals[0]:.2f}V\",\n",
    "     f\"Rest for 60 minutes\",\n",
    "     f\"Discharge at 0.5C for 18 s\",\n",
    "     f\"Rest for 1 minutes\",\n",
    "     f\"Charge at 0.5C for 18 s\",\n",
    "     f\"Rest for 1 minutes\",\n",
    "    )\n",
    "\n",
    "instructions.insert(0, beginning_of_experiment)\n",
    "\n",
    "instructions"
   ]
  },
  {
   "cell_type": "code",
   "execution_count": 7,
   "id": "80b2cc07-dde8-4738-bc7e-23697974e031",
   "metadata": {},
   "outputs": [
    {
     "data": {
      "application/vnd.jupyter.widget-view+json": {
       "model_id": "dc086ab05ae843c8b4def7004a86c6bc",
       "version_major": 2,
       "version_minor": 0
      },
      "text/plain": [
       "interactive(children=(FloatSlider(value=0.0, description='t', max=27.45266366434918, step=0.2745266366434918),…"
      ]
     },
     "metadata": {},
     "output_type": "display_data"
    },
    {
     "data": {
      "text/plain": [
       "<pybamm.plotting.quick_plot.QuickPlot at 0x20b6e273650>"
      ]
     },
     "execution_count": 7,
     "metadata": {},
     "output_type": "execute_result"
    }
   ],
   "source": [
    "# Now setup our simulation and run (This will take some time)\n",
    "sim = pybamm.Simulation(model, experiment=instructions, parameter_values=parameter_values)\n",
    "\n",
    "# Finally we'll execute our experiment\n",
    "sim.solve()\n",
    " \n",
    "sim.plot()"
   ]
  },
  {
   "cell_type": "markdown",
   "id": "0ba3007c-cb0c-4668-9fec-7ae4a3bfce2b",
   "metadata": {},
   "source": [
    "#### Example 4: Experiments with temperature considerations: \n",
    "\n",
    "Now, in the experiments above we did not specify a unique operating temperature. You should be mindful of this while working in pybamm experiments because if the temperature is not specified in the experiment, it will default to what is specified in the parameter values for our loaded model. \n",
    "\n",
    "We can view what that model temperature is by accessing the parameter_values dictionary: "
   ]
  },
  {
   "cell_type": "code",
   "execution_count": 8,
   "id": "e8dc85ec-586b-4c29-be0e-bf860549b30e",
   "metadata": {},
   "outputs": [
    {
     "name": "stdout",
     "output_type": "stream",
     "text": [
      "Default temperature of the cell for this experiment: 298.15K\n",
      "Default ambient temperature for this experiment: 298.15K\n",
      "Reference temperature for this model's parameter set: 298.15K\n"
     ]
    }
   ],
   "source": [
    "print(\"Default temperature of the cell for this experiment: {}K\".format(parameter_values[\"Initial temperature [K]\"]))\n",
    "print(\"Default ambient temperature for this experiment: {}K\".format(parameter_values[\"Ambient temperature [K]\"]))\n",
    "print(\"Reference temperature for this model's parameter set: {}K\".format(parameter_values[\"Reference temperature [K]\"]))"
   ]
  },
  {
   "cell_type": "markdown",
   "id": "83558cab-2b12-47a7-a431-4d409d1792e3",
   "metadata": {},
   "source": [
    "<br>If we plot the temperature vs. experiment, you'll notice that since we did not specify a dynamic temperature profile, the model defaulted to an isothermal operating condition for the entirety of the test. "
   ]
  },
  {
   "cell_type": "code",
   "execution_count": 9,
   "id": "c76d9f17-43ad-4a5c-9ef9-4da2c4e73911",
   "metadata": {},
   "outputs": [
    {
     "data": {
      "text/plain": [
       "Text(0.5, 1.0, 'Experiment temperature vs. time')"
      ]
     },
     "execution_count": 9,
     "metadata": {},
     "output_type": "execute_result"
    },
    {
     "data": {
      "image/png": "[encoded data removed]",
      "text/plain": [
       "<Figure size 640x480 with 1 Axes>"
      ]
     },
     "metadata": {},
     "output_type": "display_data"
    }
   ],
   "source": [
    "temp = list(sim.solution['Cell temperature [K]'].entries)[0]\n",
    "time = list(sim.solution['Time [min]'].entries)\n",
    "plt.plot(time, temp)\n",
    "plt.xlabel('Time [min]')\n",
    "plt.ylabel(\"temperature (K)\")\n",
    "plt.title(\"Experiment temperature vs. time\")"
   ]
  },
  {
   "cell_type": "markdown",
   "id": "ed5de853-156e-48f6-9060-5e450f257c55",
   "metadata": {},
   "source": [
    "#### How to update our initialization temperatures:\n",
    "To modify our experiment so it's operating at a new temperature, we could update our parameter values called out above. For example: \n",
    "```python\n",
    "\n",
    "# Set parameter values\n",
    "parameter_values = pybamm.ParameterValues(values=chemistry)\n",
    "\n",
    "# Update our temperature to operate at \n",
    "parameter_values[\"Initial temperature [K]\"] = 310.15\n",
    "parameter_values[\"Ambient temperature [K]\"] = 305.15\n",
    "\n",
    "# And setup our simulation\n",
    "sim = pybamm.Simulation(model, experiment=experiment, parameter_values=parameter_values)\n",
    "```"
   ]
  },
  {
   "cell_type": "markdown",
   "id": "3a80cca6-ba1c-44d5-9466-b26274aeafc9",
   "metadata": {},
   "source": [
    "#### Example 5: Running an experiment with non-isothermal considerations\n",
    "\n",
    "To modify our test so it is no longer isothermal, we need to update our model options, specifying which thermal conditions we wish to include. For a list of thermal model options depending on your battery cell type, check out Pybamm's docs here: <br>https://docs.pybamm.org/en/latest/source/examples/notebooks/models/thermal-models.html\n",
    "\n",
    "It's important to recognize that thermal implications can significantly influence the practical limitations of a battery. For example, we might taper the current to maintaining temperatures within an appropriate range to prevent battery degradation. "
   ]
  },
  {
   "cell_type": "code",
   "execution_count": 10,
   "id": "7b5a8fbf-ec71-4504-aa8c-662a47cf913b",
   "metadata": {},
   "outputs": [
    {
     "data": {
      "text/plain": [
       "Text(0.5, 1.0, 'Experiment Temperature vs. Time')"
      ]
     },
     "execution_count": 10,
     "metadata": {},
     "output_type": "execute_result"
    },
    {
     "data": {
      "image/png": "[encoded data removed]",
      "text/plain": [
       "<Figure size 640x480 with 1 Axes>"
      ]
     },
     "metadata": {},
     "output_type": "display_data"
    }
   ],
   "source": [
    "# Declaring a non-isothermal battery model with our pulse profile from Example 4\n",
    "options = {\"thermal\": \"lumped\"}\n",
    "model = pybamm.lithium_ion.SPMe(options=options)  # loading in options\n",
    "sim = pybamm.Simulation(model, experiment=instructions, parameter_values=parameter_values)\n",
    "sim.solve()\n",
    "\n",
    "temp = list(sim.solution['Cell temperature [K]'].entries)[0]\n",
    "time = list(sim.solution['Time [min]'].entries)\n",
    "\n",
    "# Plot our temperature vs. time of the model\n",
    "plt.plot(time, temp,'o')\n",
    "plt.xlabel('Time [min]')\n",
    "plt.ylabel(\"temperature (K)\")\n",
    "plt.title(\"Experiment Temperature vs. Time\")"
   ]
  },
  {
   "cell_type": "code",
   "execution_count": 11,
   "id": "bd5a13d1-9f82-416a-a61d-0b80e1b70faa",
   "metadata": {},
   "outputs": [
    {
     "data": {
      "text/plain": [
       "Text(0.5, 1.0, 'Experiment Voltage vs. Time')"
      ]
     },
     "execution_count": 11,
     "metadata": {},
     "output_type": "execute_result"
    },
    {
     "data": {
      "image/png": "[encoded data removed]",
      "text/plain": [
       "<Figure size 640x480 with 1 Axes>"
      ]
     },
     "metadata": {},
     "output_type": "display_data"
    }
   ],
   "source": [
    "# Now let's compare that to the model's Voltage Vs. Time\n",
    "Voltage = list(sim.solution['Voltage [V]'].entries)\n",
    "time = list(sim.solution['Time [min]'].entries)\n",
    "\n",
    "# Plot our temperature vs. time of the model\n",
    "plt.plot(time, Voltage,'r--')\n",
    "plt.xlabel('Time [min]')\n",
    "plt.ylabel(\"temperature (K)\")\n",
    "plt.title(\"Experiment Voltage vs. Time\")"
   ]
  },
  {
   "cell_type": "markdown",
   "id": "54fbad6d-1cf8-4c17-8c4a-1e0beb11bfa3",
   "metadata": {},
   "source": [
    "---"
   ]
  },
  {
   "cell_type": "markdown",
   "id": "e0b14b4b-70f6-4882-9dd4-a36f6d704f1f",
   "metadata": {},
   "source": [
    "### Summary:\n",
    "\n",
    "In this lecture, we explored the pybamm.Experiments class in python. We covered 5 examples demonstrating how we can run varied experiments including simple monotonic profiles, load profiles with current tapering for voltage hold conditions, complicated profiles for dynamic tests like HPPC profiling, and how to add temperature considerations in our tests. \n",
    "\n",
    "We demonstrated how OCV voltages can be used to specify SOC-based changes in load profiles, noted how list comprehension can be used to quickly generate a set of instructions for dynamic operation. Finally, we identified how to change temperature profiles to support changing thermal conditions. \n",
    "\n",
    "In our next lecture, we're going to cover how to feed in test data into an example so we can compare a model's performance relative to experimental observations including dynamic temperature, load, and voltage responses.\n",
    "\n",
    "---"
   ]
  },
  {
   "cell_type": "markdown",
   "id": "d0e81c98-3801-4125-810b-e424365e4127",
   "metadata": {},
   "source": [
    "\n",
    "### Training Provided By: \n",
    "Matt Jones <br>[Email](@mjones@envirolytica.com) | [LinkedIn](https://www.linkedin.com/in/jonesmatthewdavid/) <br>[Github](https://github.com/MDJonesBYU/Introduction-to-Pybamm) | [Website](www.Envirolytica.com)\n",
    "\n",
    "---"
   ]
  },
  {
   "cell_type": "markdown",
   "id": "95cc0ff9",
   "metadata": {},
   "source": [
    "### Citations:\n",
    "\n",
    "1. The Pybamm Team. “Experiments.” Experiments - PyBaMM V23.3 Manual, NumFOCUS, docs.pybamm.org/en/v23.3/source/api/experiments/index.html. Accessed &nbsp;&nbsp;&nbsp;&nbsp;&nbsp;&nbsp;30 Mar. 2024. \n",
    "2. The Pybamm Team. “Simulating Long Experiments#.” Simulating Long Experiments - PyBaMM V23.5 Manual, NumFOCUS, docs.pybamm.org/en/v23.5_a/source/examples/notebooks/simulating-long-experiments.html. Accessed 30 Mar. 2024. \n",
    "3. Park, Jeong-Eon. “A Control Algorithm for Tapering Charging of Li-Ion Battery in Geostationary Satellites.” A Control Algorithm for Tapering Charging of Li-Ion Battery in Geostationary Satellites, Multidisciplinary Digital Publishing Institute, 26 July 2023, www.mdpi.com/1996-1073/16/15/5636. \n",
    "4. Cho, In-Ho, et al. “Analysis of the effect of the variable charging current control method on cycle life of Li-Ion Batteries.” Energies, vol. 12, no. 15, 6 Aug. 2019, p. 3023, https://doi.org/10.3390/en12153023. \n",
    "5. Białoń, Tadeusz, et al. “HPPC test methodology using LFP Battery cell identification tests as an example.” Energies, vol. 16, no. 17, 28 Aug. 2023, p. 6239, https://doi.org/10.3390/en16176239. \n"
   ]
  },
  {
   "cell_type": "markdown",
   "id": "d6c5e4dc-a934-4ecc-a3c6-e42081597472",
   "metadata": {},
   "source": [
    "---\n",
    "### Pybamm License and Copyright Details: \n",
    "[License](https://github.com/pybamm-team/PyBaMM/blob/develop/LICENSE.txt)\n"
   ]
  },
  {
   "cell_type": "code",
   "execution_count": null,
   "id": "4c7aef3b-7be3-4985-945b-cba225005f6b",
   "metadata": {},
   "outputs": [],
   "source": []
  }
 ],
 "metadata": {
  "kernelspec": {
   "display_name": "Python 3 (ipykernel)",
   "language": "python",
   "name": "python3"
  },
  "language_info": {
   "codemirror_mode": {
    "name": "ipython",
    "version": 3
   },
   "file_extension": ".py",
   "mimetype": "text/x-python",
   "name": "python",
   "nbconvert_exporter": "python",
   "pygments_lexer": "ipython3",
   "version": "3.11.7"
  }
 },
 "nbformat": 4,
 "nbformat_minor": 5
}
